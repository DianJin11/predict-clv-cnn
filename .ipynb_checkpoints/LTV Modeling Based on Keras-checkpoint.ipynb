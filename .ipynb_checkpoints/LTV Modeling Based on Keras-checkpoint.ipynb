{
 "cells": [
  {
   "cell_type": "markdown",
   "metadata": {},
   "source": [
    "# Data loading and preprocessing"
   ]
  },
  {
   "cell_type": "code",
   "execution_count": 1,
   "metadata": {},
   "outputs": [],
   "source": [
    "import numpy as np\n",
    "import pandas as pd"
   ]
  },
  {
   "cell_type": "code",
   "execution_count": 2,
   "metadata": {},
   "outputs": [
    {
     "name": "stdout",
     "output_type": "stream",
     "text": [
      "   Quantity         InvoiceDate  UnitPrice CustomerID         Country\n",
      "0         6 2010-12-01 08:26:00       2.55      17850  United Kingdom\n",
      "1         6 2010-12-01 08:26:00       3.39      17850  United Kingdom\n",
      "2         8 2010-12-01 08:26:00       2.75      17850  United Kingdom\n",
      "3         6 2010-12-01 08:26:00       3.39      17850  United Kingdom\n",
      "4         6 2010-12-01 08:26:00       3.39      17850  United Kingdom\n"
     ]
    }
   ],
   "source": [
    "OnlRt = pd.read_csv('./OnlineRetail.csv',\n",
    "                   usecols=['CustomerID','InvoiceDate','UnitPrice','Quantity','Country'],\n",
    "                   parse_dates=['InvoiceDate'],\n",
    "                   dtype={'CustomerID':np.str,\n",
    "                         'UnitPrice':np.float32,\n",
    "                         'Quantity':np.int32,\n",
    "                         'Country':np.str})\n",
    "print(OnlRt.head())"
   ]
  },
  {
   "cell_type": "markdown",
   "metadata": {},
   "source": [
    "## Data cleaning"
   ]
  },
  {
   "cell_type": "code",
   "execution_count": 3,
   "metadata": {},
   "outputs": [],
   "source": [
    "neg_id = OnlRt[(OnlRt['Quantity']<=0)|(OnlRt['UnitPrice']<=0)].loc[:,'CustomerID']\n",
    "data0 = OnlRt[(OnlRt['CustomerID'].notnull())&\n",
    "             (~OnlRt['CustomerID'].isin(neg_id))&\n",
    "             (OnlRt['Country']=='United Kingdom')].drop('Country', axis=1)"
   ]
  },
  {
   "cell_type": "code",
   "execution_count": 4,
   "metadata": {},
   "outputs": [],
   "source": [
    "data1 = data0.assign(amount=data0['UnitPrice'].multiply(data0['Quantity']))"
   ]
  },
  {
   "cell_type": "code",
   "execution_count": 5,
   "metadata": {},
   "outputs": [],
   "source": [
    "first_time = data1['InvoiceDate'].sort_values(ascending=True).groupby(data1['CustomerID']).nth(0).apply(lambda x:x.date()).reset_index().rename(columns={'InvoiceDate':'first_time'})\n",
    "data2 = pd.merge(data1, first_time, how='left', on=['CustomerID'])"
   ]
  },
  {
   "cell_type": "markdown",
   "metadata": {},
   "source": [
    "## Extracting new features"
   ]
  },
  {
   "cell_type": "code",
   "execution_count": 6,
   "metadata": {},
   "outputs": [],
   "source": [
    "dayth = (data2['InvoiceDate'].apply(lambda x:x.date()) - data2['first_time']).apply(lambda x: x.days)"
   ]
  },
  {
   "cell_type": "code",
   "execution_count": 7,
   "metadata": {},
   "outputs": [],
   "source": [
    "month = data2['InvoiceDate'].apply(lambda x:x.month)\n",
    "weekday = data2['InvoiceDate'].apply(lambda x:x.weekday())\n",
    "hour = data2['InvoiceDate'].apply(lambda x:x.hour)\n",
    "minute = data2['InvoiceDate'].apply(lambda x:x.minute)\n",
    "second = data2['InvoiceDate'].apply(lambda x:x.second)"
   ]
  },
  {
   "cell_type": "code",
   "execution_count": 8,
   "metadata": {},
   "outputs": [],
   "source": [
    "hour_preci = (second/60+minute)/60+hour"
   ]
  },
  {
   "cell_type": "code",
   "execution_count": 9,
   "metadata": {},
   "outputs": [],
   "source": [
    "data3 = data2.assign(dayth=dayth).assign(hour=hour_preci).assign(weekday=weekday).drop(['first_time','InvoiceDate'], axis=1).sort_values(by=['CustomerID', 'dayth', 'hour'])"
   ]
  },
  {
   "cell_type": "code",
   "execution_count": 10,
   "metadata": {},
   "outputs": [],
   "source": [
    "X = data3[data3['dayth']<28].set_index('CustomerID').drop('amount', axis=1).sort_index()"
   ]
  },
  {
   "cell_type": "code",
   "execution_count": 11,
   "metadata": {},
   "outputs": [],
   "source": [
    "data180 = data3[(data3['dayth']<180)&(data3['CustomerID'].isin(X.index))]\n",
    "y = data180['amount'].groupby(data180['CustomerID']).sum().sort_index()"
   ]
  },
  {
   "cell_type": "code",
   "execution_count": 12,
   "metadata": {},
   "outputs": [],
   "source": [
    "X.to_csv('bookdata_X.csv', index=True, header=True)\n",
    "y.to_csv('bookdata_y.csv', index=True, header=True)"
   ]
  },
  {
   "cell_type": "markdown",
   "metadata": {},
   "source": [
    "# Preparing Input data"
   ]
  },
  {
   "cell_type": "code",
   "execution_count": 1,
   "metadata": {},
   "outputs": [],
   "source": [
    "from sklearn.model_selection import train_test_split\n",
    "from sklearn.preprocessing import MinMaxScaler"
   ]
  },
  {
   "cell_type": "code",
   "execution_count": null,
   "metadata": {},
   "outputs": [],
   "source": [
    "from keras.layers import Input, Conv1D, Dropout, LSTM, TimeDistributed, Bidirectional, Dense\n",
    "from keras.models import Model\n",
    "from keras.callbacks import EarlyStopping"
   ]
  },
  {
   "cell_type": "code",
   "execution_count": 1,
   "metadata": {},
   "outputs": [],
   "source": [
    "import matplotlib.pyplot as plt"
   ]
  },
  {
   "cell_type": "code",
   "execution_count": null,
   "metadata": {},
   "outputs": [],
   "source": []
  }
 ],
 "metadata": {
  "kernelspec": {
   "display_name": "Python 3",
   "language": "python",
   "name": "python3"
  },
  "language_info": {
   "codemirror_mode": {
    "name": "ipython",
    "version": 3
   },
   "file_extension": ".py",
   "mimetype": "text/x-python",
   "name": "python",
   "nbconvert_exporter": "python",
   "pygments_lexer": "ipython3",
   "version": "3.8.5"
  }
 },
 "nbformat": 4,
 "nbformat_minor": 4
}
