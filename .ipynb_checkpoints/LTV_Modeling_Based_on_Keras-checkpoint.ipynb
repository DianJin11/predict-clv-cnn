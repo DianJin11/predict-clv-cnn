{
 "cells": [
  {
   "cell_type": "markdown",
   "metadata": {
    "id": "slSQBx81-RWw"
   },
   "source": [
    "# Data loading and preprocessing"
   ]
  },
  {
   "cell_type": "code",
   "execution_count": 48,
   "metadata": {
    "id": "AIJjzp0D-RWy"
   },
   "outputs": [],
   "source": [
    "import numpy as np\n",
    "import pandas as pd"
   ]
  },
  {
   "cell_type": "code",
   "execution_count": 49,
   "metadata": {
    "colab": {
     "base_uri": "https://localhost:8080/"
    },
    "id": "w_TTiB-r-RWz",
    "outputId": "49b46aa5-3fbf-44e0-d968-5f5238d81a20"
   },
   "outputs": [
    {
     "name": "stdout",
     "output_type": "stream",
     "text": [
      "   Quantity         InvoiceDate  UnitPrice CustomerID         Country\n",
      "0         6 2010-12-01 08:26:00       2.55      17850  United Kingdom\n",
      "1         6 2010-12-01 08:26:00       3.39      17850  United Kingdom\n",
      "2         8 2010-12-01 08:26:00       2.75      17850  United Kingdom\n",
      "3         6 2010-12-01 08:26:00       3.39      17850  United Kingdom\n",
      "4         6 2010-12-01 08:26:00       3.39      17850  United Kingdom\n"
     ]
    }
   ],
   "source": [
    "OnlRt = pd.read_csv('./OnlineRetail.csv',\n",
    "                   usecols=['CustomerID','InvoiceDate','UnitPrice','Quantity','Country'],\n",
    "                   parse_dates=['InvoiceDate'],\n",
    "                   dtype={'CustomerID':np.str,\n",
    "                         'UnitPrice':np.float32,\n",
    "                         'Quantity':np.int32,\n",
    "                         'Country':np.str})\n",
    "print(OnlRt.head())"
   ]
  },
  {
   "cell_type": "markdown",
   "metadata": {
    "id": "O1N0gyzC-RW0"
   },
   "source": [
    "## Data cleaning"
   ]
  },
  {
   "cell_type": "code",
   "execution_count": 50,
   "metadata": {
    "id": "YqbH-awt-RW0"
   },
   "outputs": [],
   "source": [
    "neg_id = OnlRt[(OnlRt['Quantity']<=0)|(OnlRt['UnitPrice']<=0)].loc[:,'CustomerID']\n",
    "data0 = OnlRt[(OnlRt['CustomerID'].notnull())&\n",
    "             (~OnlRt['CustomerID'].isin(neg_id))&\n",
    "             (OnlRt['Country']=='United Kingdom')].drop('Country', axis=1)"
   ]
  },
  {
   "cell_type": "code",
   "execution_count": 51,
   "metadata": {
    "id": "VVGDIvDb-RW0"
   },
   "outputs": [],
   "source": [
    "data1 = data0.assign(amount=data0['UnitPrice'].multiply(data0['Quantity']))"
   ]
  },
  {
   "cell_type": "code",
   "execution_count": 52,
   "metadata": {
    "id": "6WmuC4ce-RW1"
   },
   "outputs": [],
   "source": [
    "first_time = data1['InvoiceDate'].sort_values(ascending=True).groupby(data1['CustomerID']).nth(0).apply(lambda x:x.date()).reset_index().rename(columns={'InvoiceDate':'first_time'})\n",
    "data2 = pd.merge(data1, first_time, how='left', on=['CustomerID'])"
   ]
  },
  {
   "cell_type": "markdown",
   "metadata": {
    "id": "ZlfmNhs1-RW1"
   },
   "source": [
    "## Extracting new features"
   ]
  },
  {
   "cell_type": "code",
   "execution_count": 53,
   "metadata": {
    "id": "IDEteikd-RW2"
   },
   "outputs": [],
   "source": [
    "dayth = (data2['InvoiceDate'].apply(lambda x:x.date()) - data2['first_time']).apply(lambda x: x.days)"
   ]
  },
  {
   "cell_type": "code",
   "execution_count": 54,
   "metadata": {
    "id": "6xGhl4_2-RW2"
   },
   "outputs": [],
   "source": [
    "month = data2['InvoiceDate'].apply(lambda x:x.month)\n",
    "weekday = data2['InvoiceDate'].apply(lambda x:x.weekday())\n",
    "hour = data2['InvoiceDate'].apply(lambda x:x.hour)\n",
    "minute = data2['InvoiceDate'].apply(lambda x:x.minute)\n",
    "second = data2['InvoiceDate'].apply(lambda x:x.second)"
   ]
  },
  {
   "cell_type": "code",
   "execution_count": 55,
   "metadata": {
    "id": "GcTCOGuQ-RW3"
   },
   "outputs": [],
   "source": [
    "hour_preci = (second/60+minute)/60+hour"
   ]
  },
  {
   "cell_type": "code",
   "execution_count": 56,
   "metadata": {
    "id": "gz6GHGV_-RW3"
   },
   "outputs": [],
   "source": [
    "data3 = data2.assign(dayth=dayth).assign(hour=hour_preci).assign(weekday=weekday).drop(['first_time','InvoiceDate'], axis=1).sort_values(by=['CustomerID', 'dayth', 'hour'])"
   ]
  },
  {
   "cell_type": "code",
   "execution_count": 57,
   "metadata": {
    "id": "tj7efxTj-RW3"
   },
   "outputs": [],
   "source": [
    "X = data3[data3['dayth']<28].set_index('CustomerID').drop('amount', axis=1).sort_index()"
   ]
  },
  {
   "cell_type": "code",
   "execution_count": 58,
   "metadata": {
    "id": "-nQ3aV2L-RW4"
   },
   "outputs": [],
   "source": [
    "data180 = data3[(data3['dayth']<180)&(data3['CustomerID'].isin(X.index))]\n",
    "y = data180['amount'].groupby(data180['CustomerID']).sum().sort_index()"
   ]
  },
  {
   "cell_type": "code",
   "execution_count": 59,
   "metadata": {
    "id": "upDzZU-5-RW4"
   },
   "outputs": [],
   "source": [
    "X.to_csv('bookdata_X.csv', index=True, header=True)\n",
    "y.to_csv('bookdata_y.csv', index=True, header=True)"
   ]
  },
  {
   "cell_type": "markdown",
   "metadata": {
    "id": "dxNphDzw-RW4"
   },
   "source": [
    "# Preparing Input data"
   ]
  },
  {
   "cell_type": "code",
   "execution_count": 60,
   "metadata": {
    "id": "PEeVuE_M-RW4"
   },
   "outputs": [],
   "source": [
    "from sklearn.model_selection import train_test_split\n",
    "from sklearn.preprocessing import MinMaxScaler\n",
    "from keras.layers import Input, Conv1D, Dropout, LSTM, TimeDistributed, Bidirectional, Dense\n",
    "from keras.models import Model\n",
    "from keras.callbacks import EarlyStopping\n",
    "import matplotlib.pyplot as plt"
   ]
  },
  {
   "cell_type": "code",
   "execution_count": 61,
   "metadata": {
    "id": "DT0PTouc-RW4"
   },
   "outputs": [],
   "source": [
    "# loading files\n",
    "columns_picked = ['CustomerID','Quantity','UnitPrice','dayth','hour','weekday']\n",
    "y = pd.read_csv('bookdata_y.csv').rename(columns={'CustomerID': 'id'}).set_index('id')['amount']\n",
    "X = pd.read_csv('bookdata_X.csv', usecols=columns_picked).rename(columns={'CustomerID': 'id'}).set_index('id')\n",
    "columns_picked.remove('CustomerID')"
   ]
  },
  {
   "cell_type": "code",
   "execution_count": 62,
   "metadata": {
    "id": "WqRMQYd4-RW5"
   },
   "outputs": [],
   "source": [
    "indices = y.index.tolist()\n",
    "ind_train, ind_test = map(sorted, train_test_split(indices, test_size=0.25, random_state=42))\n",
    "\n",
    "X_train = X.loc[ind_train, :]\n",
    "y_train = y[ind_train]\n",
    "\n",
    "X_test = X.loc[ind_test, :]\n",
    "y_test = y[ind_test]"
   ]
  },
  {
   "cell_type": "code",
   "execution_count": 63,
   "metadata": {
    "id": "6xUqczh--RW5"
   },
   "outputs": [],
   "source": [
    "# Normalize\n",
    "scaler = MinMaxScaler(feature_range=(-0.5, 0.5))\n",
    "X_train_scaled = pd.DataFrame(scaler.fit_transform(X_train),\n",
    "                              columns=X_train.columns,\n",
    "                              index=X_train.index)"
   ]
  },
  {
   "cell_type": "code",
   "execution_count": 64,
   "metadata": {
    "colab": {
     "base_uri": "https://localhost:8080/",
     "height": 300
    },
    "id": "tQVL-JjzyQSt",
    "outputId": "77a74fe4-d7db-4709-d4d2-6984f166d23c"
   },
   "outputs": [
    {
     "data": {
      "text/plain": [
       "(0.0, 10.0, 0.0, 250.0)"
      ]
     },
     "execution_count": 64,
     "metadata": {},
     "output_type": "execute_result"
    },
    {
     "data": {
      "image/png": "[encoded data removed]",
      "text/plain": [
       "<Figure size 432x288 with 2 Axes>"
      ]
     },
     "metadata": {
      "needs_background": "light"
     },
     "output_type": "display_data"
    }
   ],
   "source": [
    "# logrithmic\n",
    "y_train_log = y_train.apply(np.log)\n",
    "plt.figure();\n",
    "plt.subplot(1,2,1)\n",
    "y.hist(bins=np.arange(0,4000,50))\n",
    "plt.xlabel('frequency')\n",
    "plt.ylabel('y value')\n",
    "plt.grid('off')\n",
    "plt.axis([0,4000,0,250])\n",
    "plt.subplot(1,2,2)\n",
    "y.apply(np.log).hist(bins=np.arange(0,10,0.2))\n",
    "plt.xlabel('frequency')\n",
    "plt.ylabel('log(y) value')\n",
    "plt.grid('off')\n",
    "plt.axis([0,10,0,250])"
   ]
  },
  {
   "cell_type": "code",
   "execution_count": 65,
   "metadata": {
    "id": "2BtNkduzzxyJ"
   },
   "outputs": [],
   "source": [
    "# weeks\n",
    "week_train = X_train['dayth'].apply(lambda x: int(x/7)).rename('week')"
   ]
  },
  {
   "cell_type": "code",
   "execution_count": 66,
   "metadata": {
    "id": "nzfz37em0Qyr"
   },
   "outputs": [],
   "source": [
    "# setting parameters\n",
    "inner_length = 32\n",
    "outer_length = 4\n",
    "feature_len = len(columns_picked)"
   ]
  },
  {
   "cell_type": "code",
   "execution_count": 67,
   "metadata": {
    "id": "YPVFL4Kl0Yea"
   },
   "outputs": [],
   "source": [
    "# sequence length\n",
    "def cut_pad(x, maxl):\n",
    "  head = np.array(x)[0:maxl]\n",
    "  head_padding = head if len(head)==maxl else np.pad(head,(0,maxl-len(head)), mode='constant')\n",
    "  return head_padding"
   ]
  },
  {
   "cell_type": "code",
   "execution_count": 68,
   "metadata": {
    "id": "c0b4DHrT1CFo"
   },
   "outputs": [],
   "source": [
    "def feature_array(df, col_n, week, len_outer, len_inner):\n",
    "  col = df[[col_n]].assign(week=week).reset_index()\n",
    "  \n",
    "  ids = col['id'].drop_duplicates().values.tolist()\n",
    "  weeks = np.arange(0, len_outer).tolist()\n",
    "\n",
    "  id_week = pd.DataFrame([(id,week) for id in ids for week in weeks]).rename(columns={0:'id', 1:'week'}).sort_values(by=['id','week'])\n",
    "\n",
    "  arr_base = pd.merge(id_week, col, how='left', on=['id', 'week']).fillna(0)\n",
    "\n",
    "  arr_frame = arr_base[col_n].groupby([arr_base['id'], arr_base['week']]).apply(lambda x: cut_pad(x, len_inner)).reset_index().drop('week', axis=1).set_index('id')[col_n]\n",
    "\n",
    "  userarray = arr_frame.groupby(arr_frame.index).apply(np.vstack).apply(lambda x: x.reshape([1, x.shape[0], x.shape[1]])).sort_index()\n",
    "  userarray_var = np.vstack(userarray.values.tolist())\n",
    "\n",
    "  return userarray.index.tolist(), userarray_var"
   ]
  },
  {
   "cell_type": "code",
   "execution_count": 69,
   "metadata": {
    "id": "i47mY8FS3f3W"
   },
   "outputs": [],
   "source": [
    "def make_data_array(df, columns, week, len_outer, len_inner):\n",
    "  ids_num = len(set(df.index))\n",
    "  df_ready = np.zeros([ids_num, len_outer, len_inner, len(columns)])\n",
    "\n",
    "  for i, item in enumerate(columns):\n",
    "    the_ind, df_ready[:,:,:,i] = feature_array(df, item, week, len_outer, len_inner)\n",
    "\n",
    "  return the_ind, df_ready"
   ]
  },
  {
   "cell_type": "code",
   "execution_count": 70,
   "metadata": {
    "id": "Ld4BC_eP48aN"
   },
   "outputs": [],
   "source": [
    "X_train_ind, X_train_data = make_data_array(X_train_scaled, columns_picked, week_train, outer_length, inner_length)"
   ]
  },
  {
   "cell_type": "code",
   "execution_count": 71,
   "metadata": {
    "id": "4yJiEnEh5JQD"
   },
   "outputs": [],
   "source": [
    "X_test_scaled = pd.DataFrame(scaler.transform(X_test),\n",
    "                             columns = X_test.columns,\n",
    "                             index = X_test.index)\n",
    "y_test_log = y_test.apply(np.log)\n",
    "week_test = X_test['dayth'].apply(lambda x: int(x/7)).rename('week')\n",
    "X_test_ind, X_test_data = make_data_array(X_test_scaled, columns_picked, week_test, outer_length, inner_length)"
   ]
  },
  {
   "cell_type": "markdown",
   "metadata": {
    "id": "Q9mbH6K35vJK"
   },
   "source": [
    "# Model Buildign"
   ]
  },
  {
   "cell_type": "code",
   "execution_count": 72,
   "metadata": {
    "id": "GlNw9cxQ52Zb"
   },
   "outputs": [],
   "source": [
    "def build_model(len_outer, len_inner, len_fea):\n",
    "  filters = [64, 32]\n",
    "  kernel_size = [2, 2]\n",
    "  dropout_rate = [0.1, 0]\n",
    "\n",
    "  inner_input = Input(shape=(len_inner, len_fea), dtype='float32')\n",
    "  cnnld = inner_input\n",
    "\n",
    "  for i in range(len(filters)):\n",
    "    cnnld = Conv1D(filters=filters[i],\n",
    "                   kernel_size=kernel_size[i],\n",
    "                   padding='valid',\n",
    "                   activation='relu',\n",
    "                   strides=1)(cnnld)\n",
    "    cnnld = Dropout(dropout_rate[i])(cnnld)\n",
    "\n",
    "  lstm = LSTM(32, return_sequences=True, dropout=0.1, recurrent_dropout=0.1)(cnnld)\n",
    "  inner_output = LSTM(16, return_sequences=False)(lstm)\n",
    "  inner_model = Model(inputs=inner_input, outputs=inner_output)\n",
    "\n",
    "  outer_input = Input(shape=(len_outer, len_inner, len_fea), dtype='float32')\n",
    "  innered = TimeDistributed(inner_model)(outer_input)\n",
    "  outered = Bidirectional(LSTM(16, return_sequences=False))(innered)\n",
    "  outered = Dense(8, activation='relu')(outered)\n",
    "  outer_output = Dense(1)(outered)\n",
    "\n",
    "  model = Model(inputs=outer_input, outputs=outer_output)\n",
    "  model.compile(loss='mape', optimizer='adam')\n",
    "\n",
    "  return model, inner_model"
   ]
  },
  {
   "cell_type": "code",
   "execution_count": 73,
   "metadata": {
    "id": "IyEpppT29ZYS"
   },
   "outputs": [],
   "source": [
    "LTV_model, LTV_inner_model = build_model(outer_length, inner_length, feature_len)"
   ]
  },
  {
   "cell_type": "code",
   "execution_count": 74,
   "metadata": {
    "colab": {
     "base_uri": "https://localhost:8080/"
    },
    "id": "XeNhLJy79sro",
    "outputId": "a8c23a70-dc8e-4385-e6d0-84cc0c0d7f84"
   },
   "outputs": [
    {
     "name": "stdout",
     "output_type": "stream",
     "text": [
      "Model: \"model_5\"\n",
      "_________________________________________________________________\n",
      "Layer (type)                 Output Shape              Param #   \n",
      "=================================================================\n",
      "input_7 (InputLayer)         [(None, 4, 32, 5)]        0         \n",
      "_________________________________________________________________\n",
      "time_distributed_2 (TimeDist (None, 4, 16)             16288     \n",
      "_________________________________________________________________\n",
      "bidirectional_2 (Bidirection (None, 32)                4224      \n",
      "_________________________________________________________________\n",
      "dense_4 (Dense)              (None, 8)                 264       \n",
      "_________________________________________________________________\n",
      "dense_5 (Dense)              (None, 1)                 9         \n",
      "=================================================================\n",
      "Total params: 20,785\n",
      "Trainable params: 20,785\n",
      "Non-trainable params: 0\n",
      "_________________________________________________________________\n",
      "Model: \"model_4\"\n",
      "_________________________________________________________________\n",
      "Layer (type)                 Output Shape              Param #   \n",
      "=================================================================\n",
      "input_6 (InputLayer)         [(None, 32, 5)]           0         \n",
      "_________________________________________________________________\n",
      "conv1d_4 (Conv1D)            (None, 31, 64)            704       \n",
      "_________________________________________________________________\n",
      "dropout_4 (Dropout)          (None, 31, 64)            0         \n",
      "_________________________________________________________________\n",
      "conv1d_5 (Conv1D)            (None, 30, 32)            4128      \n",
      "_________________________________________________________________\n",
      "dropout_5 (Dropout)          (None, 30, 32)            0         \n",
      "_________________________________________________________________\n",
      "lstm_6 (LSTM)                (None, 30, 32)            8320      \n",
      "_________________________________________________________________\n",
      "lstm_7 (LSTM)                (None, 16)                3136      \n",
      "=================================================================\n",
      "Total params: 16,288\n",
      "Trainable params: 16,288\n",
      "Non-trainable params: 0\n",
      "_________________________________________________________________\n"
     ]
    }
   ],
   "source": [
    "LTV_model.summary()\n",
    "LTV_inner_model.summary()"
   ]
  },
  {
   "cell_type": "code",
   "execution_count": 75,
   "metadata": {
    "colab": {
     "base_uri": "https://localhost:8080/"
    },
    "id": "OmWts1wW-Cv5",
    "outputId": "112a4c30-0d8d-40f0-cb97-2f536e21f090"
   },
   "outputs": [
    {
     "name": "stdout",
     "output_type": "stream",
     "text": [
      "Epoch 1/300\n",
      "15/15 - 14s - loss: 97.0601 - val_loss: 89.1184\n",
      "Epoch 2/300\n",
      "15/15 - 4s - loss: 76.6813 - val_loss: 61.9268\n",
      "Epoch 3/300\n",
      "15/15 - 4s - loss: 45.7338 - val_loss: 26.1012\n",
      "Epoch 4/300\n",
      "15/15 - 4s - loss: 16.7297 - val_loss: 14.2194\n",
      "Epoch 5/300\n",
      "15/15 - 4s - loss: 14.6375 - val_loss: 12.3249\n",
      "Epoch 6/300\n",
      "15/15 - 4s - loss: 13.5298 - val_loss: 12.6410\n",
      "Epoch 7/300\n",
      "15/15 - 4s - loss: 13.3301 - val_loss: 12.2799\n",
      "Epoch 8/300\n",
      "15/15 - 4s - loss: 13.3906 - val_loss: 12.3452\n",
      "Epoch 9/300\n",
      "15/15 - 4s - loss: 13.3702 - val_loss: 12.3036\n",
      "Epoch 10/300\n",
      "15/15 - 4s - loss: 13.3560 - val_loss: 12.3343\n",
      "Epoch 11/300\n",
      "15/15 - 4s - loss: 13.3587 - val_loss: 12.3005\n",
      "Epoch 12/300\n",
      "15/15 - 4s - loss: 13.3824 - val_loss: 12.3464\n",
      "Epoch 13/300\n",
      "15/15 - 4s - loss: 13.3606 - val_loss: 12.2962\n",
      "Epoch 14/300\n",
      "15/15 - 4s - loss: 13.3383 - val_loss: 12.2897\n",
      "Epoch 15/300\n",
      "15/15 - 4s - loss: 13.3313 - val_loss: 12.3392\n",
      "Epoch 16/300\n",
      "15/15 - 4s - loss: 13.3459 - val_loss: 12.2521\n",
      "Epoch 17/300\n",
      "15/15 - 4s - loss: 13.3392 - val_loss: 12.2986\n",
      "Epoch 18/300\n",
      "15/15 - 4s - loss: 13.3158 - val_loss: 12.2620\n",
      "Epoch 19/300\n",
      "15/15 - 4s - loss: 13.3274 - val_loss: 12.2272\n",
      "Epoch 20/300\n",
      "15/15 - 4s - loss: 13.3185 - val_loss: 12.2904\n",
      "Epoch 21/300\n",
      "15/15 - 4s - loss: 13.3103 - val_loss: 12.2479\n",
      "Epoch 22/300\n",
      "15/15 - 4s - loss: 13.2692 - val_loss: 12.1905\n",
      "Epoch 23/300\n",
      "15/15 - 4s - loss: 13.2560 - val_loss: 12.1893\n",
      "Epoch 24/300\n",
      "15/15 - 4s - loss: 13.1951 - val_loss: 12.1126\n",
      "Epoch 25/300\n",
      "15/15 - 4s - loss: 13.1282 - val_loss: 12.0347\n",
      "Epoch 26/300\n",
      "15/15 - 4s - loss: 12.9987 - val_loss: 11.8887\n",
      "Epoch 27/300\n",
      "15/15 - 4s - loss: 12.8310 - val_loss: 11.6986\n",
      "Epoch 28/300\n",
      "15/15 - 4s - loss: 12.5949 - val_loss: 11.6046\n",
      "Epoch 29/300\n",
      "15/15 - 4s - loss: 12.3491 - val_loss: 11.2518\n",
      "Epoch 30/300\n",
      "15/15 - 4s - loss: 12.1574 - val_loss: 11.0896\n",
      "Epoch 31/300\n",
      "15/15 - 4s - loss: 12.0227 - val_loss: 10.9383\n",
      "Epoch 32/300\n",
      "15/15 - 4s - loss: 11.8783 - val_loss: 10.9265\n",
      "Epoch 33/300\n",
      "15/15 - 4s - loss: 11.7587 - val_loss: 10.8945\n",
      "Epoch 34/300\n",
      "15/15 - 4s - loss: 11.7073 - val_loss: 11.0317\n",
      "Epoch 35/300\n",
      "15/15 - 4s - loss: 11.7278 - val_loss: 11.3063\n",
      "Epoch 36/300\n",
      "15/15 - 4s - loss: 11.7112 - val_loss: 11.0736\n",
      "Epoch 37/300\n",
      "15/15 - 4s - loss: 11.6431 - val_loss: 10.8845\n",
      "Epoch 38/300\n",
      "15/15 - 4s - loss: 11.7173 - val_loss: 10.8972\n",
      "Epoch 39/300\n",
      "15/15 - 4s - loss: 11.6453 - val_loss: 11.0442\n",
      "Epoch 40/300\n",
      "15/15 - 4s - loss: 11.5970 - val_loss: 11.4433\n",
      "Epoch 41/300\n",
      "15/15 - 4s - loss: 11.6152 - val_loss: 11.1064\n",
      "Epoch 42/300\n",
      "15/15 - 4s - loss: 11.5809 - val_loss: 10.7462\n",
      "Epoch 43/300\n",
      "15/15 - 4s - loss: 11.5052 - val_loss: 10.8544\n",
      "Epoch 44/300\n",
      "15/15 - 4s - loss: 11.6010 - val_loss: 10.7607\n",
      "Epoch 45/300\n",
      "15/15 - 4s - loss: 11.6425 - val_loss: 10.7375\n",
      "Epoch 46/300\n",
      "15/15 - 4s - loss: 11.5285 - val_loss: 11.0213\n",
      "Epoch 47/300\n",
      "15/15 - 4s - loss: 11.5069 - val_loss: 10.7353\n",
      "Epoch 48/300\n",
      "15/15 - 4s - loss: 11.5857 - val_loss: 10.9402\n",
      "Epoch 49/300\n",
      "15/15 - 4s - loss: 11.4446 - val_loss: 10.7646\n",
      "Epoch 50/300\n",
      "15/15 - 4s - loss: 11.4365 - val_loss: 11.3134\n",
      "Epoch 51/300\n",
      "15/15 - 4s - loss: 11.5683 - val_loss: 11.1316\n",
      "Epoch 52/300\n",
      "15/15 - 4s - loss: 11.5247 - val_loss: 10.8048\n",
      "Epoch 53/300\n",
      "15/15 - 4s - loss: 11.5048 - val_loss: 11.1089\n",
      "Epoch 54/300\n",
      "15/15 - 4s - loss: 11.4163 - val_loss: 10.8442\n",
      "Epoch 55/300\n",
      "15/15 - 4s - loss: 11.4386 - val_loss: 10.9524\n",
      "Epoch 56/300\n",
      "15/15 - 4s - loss: 11.4719 - val_loss: 11.1862\n",
      "Epoch 57/300\n",
      "15/15 - 4s - loss: 11.4609 - val_loss: 10.8546\n",
      "Epoch 58/300\n",
      "15/15 - 4s - loss: 11.3716 - val_loss: 10.9064\n",
      "Epoch 59/300\n",
      "15/15 - 4s - loss: 11.5404 - val_loss: 10.6283\n",
      "Epoch 60/300\n",
      "15/15 - 4s - loss: 11.3830 - val_loss: 10.7947\n",
      "Epoch 61/300\n",
      "15/15 - 4s - loss: 11.3728 - val_loss: 10.8599\n",
      "Epoch 62/300\n",
      "15/15 - 4s - loss: 11.4308 - val_loss: 12.0031\n",
      "Epoch 63/300\n",
      "15/15 - 4s - loss: 11.5254 - val_loss: 11.7331\n",
      "Epoch 64/300\n",
      "15/15 - 4s - loss: 11.6226 - val_loss: 11.8275\n",
      "Epoch 65/300\n",
      "15/15 - 4s - loss: 11.4311 - val_loss: 10.9961\n",
      "Epoch 66/300\n",
      "15/15 - 4s - loss: 11.3738 - val_loss: 11.2330\n",
      "Epoch 67/300\n",
      "15/15 - 4s - loss: 11.3791 - val_loss: 10.8511\n",
      "Epoch 68/300\n",
      "15/15 - 4s - loss: 11.2740 - val_loss: 10.6785\n",
      "Epoch 69/300\n",
      "15/15 - 4s - loss: 11.3484 - val_loss: 10.6405\n",
      "Epoch 70/300\n",
      "15/15 - 4s - loss: 11.5163 - val_loss: 10.7480\n",
      "Epoch 71/300\n",
      "15/15 - 4s - loss: 11.3210 - val_loss: 11.1598\n",
      "Epoch 72/300\n",
      "15/15 - 4s - loss: 11.2958 - val_loss: 10.8173\n",
      "Epoch 73/300\n",
      "15/15 - 4s - loss: 11.2689 - val_loss: 10.8982\n",
      "Epoch 74/300\n",
      "15/15 - 4s - loss: 11.2703 - val_loss: 11.2110\n",
      "Epoch 75/300\n",
      "15/15 - 4s - loss: 11.2919 - val_loss: 10.8257\n",
      "Epoch 76/300\n",
      "15/15 - 4s - loss: 11.3091 - val_loss: 11.1273\n",
      "Epoch 77/300\n",
      "15/15 - 4s - loss: 11.3164 - val_loss: 10.7178\n",
      "Epoch 78/300\n",
      "15/15 - 4s - loss: 11.2537 - val_loss: 10.7371\n",
      "Epoch 79/300\n",
      "15/15 - 4s - loss: 11.2978 - val_loss: 10.6846\n",
      "Epoch 80/300\n",
      "15/15 - 4s - loss: 11.2876 - val_loss: 11.0099\n",
      "Epoch 81/300\n",
      "15/15 - 4s - loss: 11.4525 - val_loss: 11.1653\n",
      "Epoch 82/300\n",
      "15/15 - 4s - loss: 11.3750 - val_loss: 10.9993\n",
      "Epoch 83/300\n",
      "15/15 - 4s - loss: 11.4421 - val_loss: 10.8665\n",
      "Epoch 84/300\n",
      "15/15 - 4s - loss: 11.3603 - val_loss: 10.8950\n",
      "Epoch 85/300\n",
      "15/15 - 4s - loss: 11.2972 - val_loss: 10.9187\n",
      "Epoch 86/300\n",
      "15/15 - 4s - loss: 11.3050 - val_loss: 10.8482\n",
      "Epoch 87/300\n",
      "15/15 - 4s - loss: 11.2643 - val_loss: 10.9590\n",
      "Epoch 88/300\n",
      "15/15 - 4s - loss: 11.2643 - val_loss: 11.0079\n",
      "Epoch 89/300\n",
      "15/15 - 4s - loss: 11.2916 - val_loss: 11.2868\n",
      "Epoch 00089: early stopping\n"
     ]
    }
   ],
   "source": [
    "cb = EarlyStopping(monitor='val_loss', mode='min', verbose=1, patience=30)\n",
    "history = LTV_model.fit(x=X_train_data,\n",
    "                        y=y_train_log,\n",
    "                        validation_data=(X_test_data, y_test_log),\n",
    "                        epochs=300,\n",
    "                        batch_size=128,\n",
    "                        callbacks=[cb],\n",
    "                        verbose=2)\n",
    "LTV_model.save('LTV_model.h5')"
   ]
  },
  {
   "cell_type": "markdown",
   "metadata": {
    "id": "K9GfkyR7_xb8"
   },
   "source": [
    "# Model analysis"
   ]
  },
  {
   "cell_type": "code",
   "execution_count": 76,
   "metadata": {
    "colab": {
     "base_uri": "https://localhost:8080/",
     "height": 298
    },
    "id": "259d38K9_0Lo",
    "outputId": "b27dd6fc-c42d-4bf3-8f19-1156e2204f3b"
   },
   "outputs": [
    {
     "data": {
      "text/plain": [
       "(0.0, 200.0, 0.0, 100.0)"
      ]
     },
     "execution_count": 76,
     "metadata": {},
     "output_type": "execute_result"
    },
    {
     "data": {
      "image/png": "[encoded data removed]",
      "text/plain": [
       "<Figure size 432x288 with 1 Axes>"
      ]
     },
     "metadata": {
      "needs_background": "light"
     },
     "output_type": "display_data"
    }
   ],
   "source": [
    "plt.figure()\n",
    "plt.plot(history.history['val_loss'], 'o', label='val_loss')\n",
    "plt.plot(history.history['loss'], '-', label='loss')\n",
    "plt.title('model loss')\n",
    "plt.legend()\n",
    "plt.axis([0, 200, 0, 100])"
   ]
  }
 ],
 "metadata": {
  "colab": {
   "collapsed_sections": [],
   "name": "LTV Modeling Based on Keras.ipynb",
   "provenance": []
  },
  "kernelspec": {
   "display_name": "Python 3",
   "language": "python",
   "name": "python3"
  },
  "language_info": {
   "codemirror_mode": {
    "name": "ipython",
    "version": 3
   },
   "file_extension": ".py",
   "mimetype": "text/x-python",
   "name": "python",
   "nbconvert_exporter": "python",
   "pygments_lexer": "ipython3",
   "version": "3.8.5"
  }
 },
 "nbformat": 4,
 "nbformat_minor": 1
}
